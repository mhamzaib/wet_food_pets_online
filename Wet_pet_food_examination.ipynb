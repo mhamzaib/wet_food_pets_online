{
 "cells": [
  {
   "cell_type": "markdown",
   "metadata": {},
   "source": [
    "## Wet Pet Foods Examination"
   ]
  },
  {
   "cell_type": "code",
   "execution_count": 1,
   "metadata": {
    "collapsed": true
   },
   "outputs": [],
   "source": [
    "import pandas as pd"
   ]
  },
  {
   "cell_type": "code",
   "execution_count": 2,
   "metadata": {
    "collapsed": true
   },
   "outputs": [],
   "source": [
    "df = pd.read_csv('pet_food_customer_orders.csv')"
   ]
  },
  {
   "cell_type": "code",
   "execution_count": 4,
   "metadata": {
    "collapsed": false
   },
   "outputs": [
    {
     "data": {
      "text/plain": [
       "Index(['customer_id', 'pet_id', 'pet_order_number', 'wet_food_order_number',\n",
       "       'orders_since_first_wet_trays_order', 'pet_has_active_subscription',\n",
       "       'pet_food_tier', 'pet_signup_datetime', 'pet_allergen_list',\n",
       "       'pet_fav_flavour_list', 'pet_health_issue_list', 'neutered', 'gender',\n",
       "       'pet_breed_size', 'signup_promo', 'ate_wet_food_pre_tails',\n",
       "       'dry_food_brand_pre_tails', 'pet_life_stage_at_order',\n",
       "       'order_payment_date', 'kibble_kcal', 'wet_kcal', 'total_order_kcal',\n",
       "       'wet_trays', 'wet_food_discount_percent', 'wet_tray_size',\n",
       "       'premium_treat_packs', 'dental_treat_packs',\n",
       "       'wet_food_textures_in_order', 'total_web_sessions',\n",
       "       'total_web_sessions_since_last_order', 'total_minutes_on_website',\n",
       "       'total_minutes_on_website_since_last_order', 'total_wet_food_updates',\n",
       "       'total_wet_food_updates_since_last_order',\n",
       "       'last_customer_support_ticket_date',\n",
       "       'customer_support_ticket_category'],\n",
       "      dtype='object')"
      ]
     },
     "execution_count": 4,
     "metadata": {},
     "output_type": "execute_result"
    }
   ],
   "source": [
    "df.columns"
   ]
  }
 ],
 "metadata": {
  "kernelspec": {
   "display_name": "Python 3",
   "language": "python",
   "name": "python3"
  },
  "language_info": {
   "codemirror_mode": {
    "name": "ipython",
    "version": 3
   },
   "file_extension": ".py",
   "mimetype": "text/x-python",
   "name": "python",
   "nbconvert_exporter": "python",
   "pygments_lexer": "ipython3",
   "version": "3.6.0"
  }
 },
 "nbformat": 4,
 "nbformat_minor": 2
}
